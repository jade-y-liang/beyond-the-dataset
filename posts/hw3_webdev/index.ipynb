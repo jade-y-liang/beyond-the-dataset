{
 "cells": [
  {
   "cell_type": "raw",
   "id": "f5f513ed-3ee4-430d-b388-7b06d5e7ff2d",
   "metadata": {},
   "source": [
    "---\n",
    "title: \"Web Development with Dash\"\n",
    "author: \"Jade Liang\"\n",
    "date: \"2024-11-8\"\n",
    "categories: [sqlite3, dash]\n",
    "---"
   ]
  },
  {
   "attachments": {},
   "cell_type": "markdown",
   "id": "0e91356f",
   "metadata": {},
   "source": [
    "Welcome! In this post, I will go over how to create a webapp using Dash by Plotly. By the end of this blog, we'll be able to create a website that accepts user input!"
   ]
  },
  {
   "attachments": {},
   "cell_type": "markdown",
   "id": "ab1f3958",
   "metadata": {},
   "source": [
    "## Function to Create the Database of Messages"
   ]
  },
  {
   "attachments": {},
   "cell_type": "markdown",
   "id": "c11d0e2b",
   "metadata": {},
   "source": [
    "We'll first make a function to set up a database to receive messages from users. This is what the function looks like:"
   ]
  },
  {
   "cell_type": "code",
   "execution_count": 1,
   "id": "25c0b6fe",
   "metadata": {},
   "outputs": [
    {
     "data": {
      "text/plain": [
       "<sqlite3.Connection at 0x1061506d0>"
      ]
     },
     "execution_count": 1,
     "metadata": {},
     "output_type": "execute_result"
    }
   ],
   "source": [
    "import sqlite3\n",
    "\n",
    "message_db = None\n",
    "\n",
    "def get_message_db():\n",
    "    \"\"\"creates database of messages, creates a \n",
    "        `messages` table if not already in database,\n",
    "         and return the connection of message_db\n",
    "\n",
    "    Returns:\n",
    "        message_db: connection to the message_db database\n",
    "    \"\"\"\n",
    "    global message_db\n",
    "\n",
    "    if message_db is not None: # if database is not empty\n",
    "        return message_db\n",
    "    else:\n",
    "        # Connect to the database messages_db.sqlite\n",
    "        message_db = sqlite3.connect(\"messages_db.sqlite\", \n",
    "                                     check_same_thread=False)\n",
    "\n",
    "        # SQL command to create a `messages` table in \n",
    "        #   the database if it does not exist\n",
    "        cmd = '''\n",
    "        CREATE TABLE IF NOT EXISTS messages (\n",
    "            handle TEXT NOT NULL,\n",
    "            message TEXT NOT NULL\n",
    "        )\n",
    "        '''\n",
    "        cursor = message_db.cursor()\n",
    "        cursor.execute(cmd)\n",
    "        message_db.commit()     # saves changes\n",
    "        cursor.close()      # closes cursor\n",
    "\n",
    "        return message_db\n",
    "\n",
    "# setting up `message` table\n",
    "get_message_db()"
   ]
  },
  {
   "attachments": {},
   "cell_type": "markdown",
   "id": "3126275c",
   "metadata": {},
   "source": [
    "## Function to Insert a User's Message into Database"
   ]
  },
  {
   "attachments": {},
   "cell_type": "markdown",
   "id": "9ec7bda0",
   "metadata": {},
   "source": [
    "Next, we'll create a function that inserts a user's inputted message into the database we just created. "
   ]
  },
  {
   "cell_type": "code",
   "execution_count": 2,
   "id": "5e63519f",
   "metadata": {},
   "outputs": [],
   "source": [
    "def insert_message(handle, message):\n",
    "    \"\"\"\n",
    "    Inserts a new message into the database.\n",
    "    Args:\n",
    "        handle (str): The user handle.\n",
    "        message (str): The content of the message.\n",
    "    \"\"\"\n",
    "\n",
    "    # creating a cursor to our database\n",
    "    cur = message_db.cursor()\n",
    "    cur.execute(\"\"\"INSERT INTO messages (handle, message)\n",
    "                    VALUES (?, ?)\n",
    "                   \"\"\",\n",
    "                   (handle, message))\n",
    "    \n",
    "    # committing changes to enure row insertion is saved\n",
    "    message_db.commit()\n",
    "\n",
    "    cursor.close() # closing cursor\n",
    "    message_db.close()  # closing connection to database"
   ]
  },
  {
   "attachments": {},
   "cell_type": "markdown",
   "id": "745413a9",
   "metadata": {},
   "source": [
    "## Callback Function to Update Components"
   ]
  },
  {
   "attachments": {},
   "cell_type": "markdown",
   "id": "d846d5a7",
   "metadata": {},
   "source": [
    "Now, we'll create a callback function to update the components. Before doing so, we need to define our Dash app. Then we'll implement the callback function `submit()` to allow user to submit their message along with their name or handle. "
   ]
  },
  {
   "cell_type": "code",
   "execution_count": 3,
   "id": "e43736c2",
   "metadata": {},
   "outputs": [
    {
     "data": {
      "text/html": [
       "\n",
       "        <iframe\n",
       "            width=\"100%\"\n",
       "            height=\"650\"\n",
       "            src=\"http://127.0.0.1:8050/\"\n",
       "            frameborder=\"0\"\n",
       "            allowfullscreen\n",
       "            \n",
       "        ></iframe>\n",
       "        "
      ],
      "text/plain": [
       "<IPython.lib.display.IFrame at 0x10aac19a0>"
      ]
     },
     "metadata": {},
     "output_type": "display_data"
    }
   ],
   "source": [
    "import dash\n",
    "from dash import html, dcc, Input, Output, State\n",
    "\n",
    "# creating Dash app\n",
    "app = dash.Dash(__name__)\n",
    "\n",
    "app.layout = html.Div([\n",
    "    # page title\n",
    "    html.H1(\"A SIMPLE MESSAGE BANK\",\n",
    "            style = {'font-family': 'Arial, sans-serif', \n",
    "                     'color': '#0F807A'}),\n",
    "\n",
    "    # form for submission\n",
    "    html.H2(\"Submit\",\n",
    "            style = {'font-family': 'Arial, sans-serif', \n",
    "                     'color': '#0B5551'}),\n",
    "    html.Div(\"Your Message:\",\n",
    "             style={'font-family': 'Arial, sans-serif', \n",
    "                    'color': '#678D8B'}),\n",
    "    dcc.Input(id='user-message', type='text',\n",
    "              style={'width': '50%', 'margin-bottom': '5px'}),\n",
    "    html.Div(\"Your Name or Handle:\",\n",
    "             style={'font-family': 'Arial, sans-serif', \n",
    "                    'color': '#678D8B'}),\n",
    "    dcc.Input(id='user-handle', type='text',\n",
    "              style={'width': '50%', 'margin-bottom': '5px'}),\n",
    "    html.Button('Submit', id='submit-button',\n",
    "                style={'margin-top': '10px', \n",
    "                       'background-color': '#0B5551', \n",
    "                       'color': 'white', 'border': 'none'}),\n",
    "    html.Div(id='message-output'),\n",
    "\n",
    "    # to view submitted messages\n",
    "    html.H2(\"View\",\n",
    "            style = {'font-family': 'Arial, sans-serif', \n",
    "                     'color': '#0B5551'}),\n",
    "    html.Button('Update', id='refresh-button', \n",
    "                style={'background-color': '#4A708B', \n",
    "                       'color': 'white'}),\n",
    "    html.Div(id='messages-display')\n",
    "])\n",
    "\n",
    "# define callback function to handle form submission\n",
    "@app.callback(\n",
    "    Output('message-output', 'children'),\n",
    "    Input('submit-button', 'n_clicks'),\n",
    "    [State('user-handle', 'value'), \n",
    "     State('user-message', 'value')],\n",
    "    prevent_initial_call=True\n",
    ")\n",
    "def submit(n_clicks, handle, message):\n",
    "    if not handle or not message: # if user didn't input both\n",
    "        return 'Please enter both a handle and a message.'\n",
    "    try: \n",
    "        insert_message(handle, message) \n",
    "        return 'Thank you for submitting a message!'\n",
    "    except Exception as e: # return error message if failed to insert message\n",
    "        return f'An error occurred: {str(e)}'\n",
    "\n",
    "df = sqlite3.connect(\"messages_db.sqlite\", check_same_thread=False)\n",
    "\n",
    "# Run the app\n",
    "if __name__ == '__main__':\n",
    "    app.run_server(debug=True)"
   ]
  },
  {
   "attachments": {},
   "cell_type": "markdown",
   "id": "6cf75342",
   "metadata": {},
   "source": [
    "## Function to Fetch Random Messages"
   ]
  },
  {
   "attachments": {},
   "cell_type": "markdown",
   "id": "86249418",
   "metadata": {},
   "source": [
    "Then, we'll create a function to fetch random messages in our database."
   ]
  },
  {
   "cell_type": "code",
   "execution_count": 4,
   "id": "e54cf582",
   "metadata": {},
   "outputs": [],
   "source": [
    "def random_messages(n):\n",
    "    \"\"\"\n",
    "    Fetches a random selection of messages from the database.\n",
    "    Args:\n",
    "        n (int): Number of random messages to retrieve.\n",
    "    Returns:\n",
    "        list of tuples: A list of messages with their handles.\n",
    "    \"\"\"\n",
    "\n",
    "    # connect to database\n",
    "    db = get_message_db()\n",
    "\n",
    "    # create a cursor\n",
    "    cursor = db.cursor()\n",
    "\n",
    "    # extracting n random messages\n",
    "    query = \"SELECT name_or_handle, message FROM messages ORDER BY RANDOM() LIMIT ?\"\n",
    "    cursor.execute(query, (n,))\n",
    "    messages = cursor.fetchall()\n",
    "\n",
    "    # close cursor and connection to database\n",
    "    cursor.close()\n",
    "    db.close()\n",
    "    return messages"
   ]
  },
  {
   "attachments": {},
   "cell_type": "markdown",
   "id": "9868a527",
   "metadata": {},
   "source": [
    "## Callback Function to Display Random Messages"
   ]
  },
  {
   "cell_type": "code",
   "execution_count": 5,
   "id": "25c8c84d",
   "metadata": {},
   "outputs": [],
   "source": [
    "@app.callback(\n",
    "    Output('messages-display', 'children'),\n",
    "    Input('refresh-button', 'n_clicks'),\n",
    "    prevent_initial_call=True\n",
    ")\n",
    "def view(n_clicks):\n",
    "    try:\n",
    "        messages = random_messages(5) # extracting 5 random messages\n",
    "        return [\n",
    "            # displays each message in one line\n",
    "            html.Div([\n",
    "                html.P(message, style={'font-size': '16px'}),\n",
    "                html.P(f\"- {handle}\", style={'font-size': '16px', 'text-align': 'right'})\n",
    "            ], style={'margin-bottom': '20px', 'border-bottom': '1px solid #ccc', 'padding-bottom': '10px'})\n",
    "            for handle, message in messages\n",
    "        ]\n",
    "    except Exception as e:\n",
    "        # return error message if failed to fetch messages\n",
    "        return html.Div(f\"Failed to fetch messages: {str(e)}\")"
   ]
  },
  {
   "attachments": {},
   "cell_type": "markdown",
   "id": "03201382",
   "metadata": {},
   "source": [
    "## To View Final Results"
   ]
  },
  {
   "attachments": {},
   "cell_type": "markdown",
   "id": "5cc80c56",
   "metadata": {},
   "source": [
    "We'll compile all our functions, update our Dash app to display messages that were submitted, and try using our message bank!"
   ]
  },
  {
   "cell_type": "code",
   "execution_count": 6,
   "id": "a2e4c21e",
   "metadata": {},
   "outputs": [
    {
     "data": {
      "text/html": [
       "\n",
       "        <iframe\n",
       "            width=\"100%\"\n",
       "            height=\"650\"\n",
       "            src=\"http://127.0.0.1:8050/\"\n",
       "            frameborder=\"0\"\n",
       "            allowfullscreen\n",
       "            \n",
       "        ></iframe>\n",
       "        "
      ],
      "text/plain": [
       "<IPython.lib.display.IFrame at 0x106357020>"
      ]
     },
     "metadata": {},
     "output_type": "display_data"
    }
   ],
   "source": [
    "import sqlite3\n",
    "import dash\n",
    "from dash import html, dcc, Input, Output, State\n",
    "\n",
    "message_db = None\n",
    "\n",
    "def get_message_db():\n",
    "    \"\"\"creates database of messages, creates a `messages` table if not already in database,\n",
    "         and return the connection of message_db\n",
    "\n",
    "    Returns:\n",
    "        message_db: connection to the message_db database\n",
    "    \"\"\"\n",
    "    global message_db\n",
    "\n",
    "    if message_db is not None: # if database is not empty\n",
    "        return message_db\n",
    "    else:\n",
    "        # Connect to the database messages_db.sqlite\n",
    "        message_db = sqlite3.connect(\"messages_db.sqlite\", check_same_thread=False)\n",
    "\n",
    "        # SQL command to create a `messages` table in the database if it does not exist\n",
    "        cmd = '''\n",
    "        CREATE TABLE IF NOT EXISTS messages (\n",
    "            handle TEXT NOT NULL,\n",
    "            message TEXT NOT NULL\n",
    "        )\n",
    "        '''\n",
    "        cursor = message_db.cursor()\n",
    "        cursor.execute(cmd)\n",
    "        message_db.commit()     # saves changes\n",
    "        cursor.close()      # closes cursor\n",
    "\n",
    "        return message_db\n",
    "\n",
    "# setting up `message` table\n",
    "get_message_db()\n",
    "\n",
    "app = dash.Dash(__name__)\n",
    "\n",
    "app.layout = html.Div([\n",
    "    # page title\n",
    "    html.H1(\"A SIMPLE MESSAGE BANK\",\n",
    "            style = {'font-family': 'Arial, sans-serif', \n",
    "                     'color': '#0F807A'}),\n",
    "\n",
    "    # form for submission\n",
    "    html.H2(\"Submit\",\n",
    "            style = {'font-family': 'Arial, sans-serif', \n",
    "                     'color': '#0B5551'}),\n",
    "    html.Div(\"Your Message:\",\n",
    "             style={'font-family': 'Arial, sans-serif', \n",
    "                    'color': '#678D8B'}),\n",
    "    dcc.Input(id='user-message', type='text',\n",
    "              style={'width': '50%', 'margin-bottom': '5px'}),\n",
    "    html.Div(\"Your Name or Handle:\",\n",
    "             style={'font-family': 'Arial, sans-serif', \n",
    "                    'color': '#678D8B'}),\n",
    "    dcc.Input(id='user-handle', type='text',\n",
    "              style={'width': '50%', 'margin-bottom': '5px'}),\n",
    "    html.Button('Submit', id='submit-button',\n",
    "                style={'margin-top': '10px', \n",
    "                       'background-color': '#0B5551', \n",
    "                       'color': 'white', 'border': 'none'}),\n",
    "    html.Div(id='message-output'),\n",
    "\n",
    "    # to view submitted messages\n",
    "    html.H2(\"View\",\n",
    "            style = {'font-family': 'Arial, sans-serif', \n",
    "                     'color': '#0B5551'}),\n",
    "    html.Button('Update', id='refresh-button', \n",
    "                style={'background-color': '#4A708B', \n",
    "                       'color': 'white'}),\n",
    "    html.Div(id='messages-display')\n",
    "])\n",
    "\n",
    "def insert_message(handle, message):\n",
    "    with sqlite3.connect(\"messages_db.sqlite\") as conn:\n",
    "        cur = conn.cursor()\n",
    "        cur.execute(\"\"\"INSERT INTO messages \n",
    "                    (handle, message) \n",
    "                    VALUES (?, ?)\"\"\", \n",
    "                    (handle, message))\n",
    "        conn.commit()\n",
    "\n",
    "def random_messages(n):\n",
    "    with sqlite3.connect(\"messages_db.sqlite\") as conn:\n",
    "        cur = conn.cursor()\n",
    "        cur.execute(\"\"\"SELECT handle, message FROM \n",
    "                    messages ORDER BY RANDOM() \n",
    "                    LIMIT ?\"\"\", (n,))\n",
    "        messages = cur.fetchall()\n",
    "    return messages\n",
    "\n",
    "@app.callback(\n",
    "    Output('message-output', 'children'),\n",
    "    Input('submit-button', 'n_clicks'),\n",
    "    [State('user-handle', 'value'), \n",
    "     State('user-message', 'value')],\n",
    "    prevent_initial_call=True\n",
    ")\n",
    "def submit(n_clicks, handle, message):\n",
    "    if not handle or not message:\n",
    "        return 'Please enter both a handle and a message.'\n",
    "    try:\n",
    "        insert_message(handle, message)\n",
    "        return 'Thank you for submitting a message!'\n",
    "    except Exception as e:\n",
    "        return f'An error occurred: {str(e)}'\n",
    "\n",
    "@app.callback(\n",
    "    Output('messages-display', 'children'),\n",
    "    Input('refresh-button', 'n_clicks'),\n",
    "    prevent_initial_call=True\n",
    ")\n",
    "def view(n_clicks):\n",
    "    try:\n",
    "        messages = random_messages(5) # extracting 5 random messages\n",
    "        return [\n",
    "            # displays each message in one line\n",
    "            html.Div([\n",
    "                html.P(message, style={'font-size': '16px'}),\n",
    "                html.P(f\"- {handle}\", \n",
    "                       style={'font-size': '16px', \n",
    "                              'text-align': 'right'})\n",
    "            ], style={'margin-bottom': '20px', \n",
    "                      'border-bottom': '1px solid #ccc', \n",
    "                      'padding-bottom': '10px'})\n",
    "            for handle, message in messages\n",
    "        ]\n",
    "    except Exception as e:\n",
    "        # return error message if failed to fetch messages\n",
    "        return html.Div(f\"Failed to fetch messages: {str(e)}\")\n",
    "\n",
    "if __name__ == '__main__':\n",
    "    app.run_server(debug=True)"
   ]
  }
 ],
 "metadata": {
  "kernelspec": {
   "display_name": "Python 3 (ipykernel)",
   "language": "python",
   "name": "python3"
  },
  "language_info": {
   "codemirror_mode": {
    "name": "ipython",
    "version": 3
   },
   "file_extension": ".py",
   "mimetype": "text/x-python",
   "name": "python",
   "nbconvert_exporter": "python",
   "pygments_lexer": "ipython3",
   "version": "3.12.4"
  }
 },
 "nbformat": 4,
 "nbformat_minor": 5
}
