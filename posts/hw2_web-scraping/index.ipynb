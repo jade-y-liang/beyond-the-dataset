{
 "cells": [
  {
   "cell_type": "raw",
   "id": "f5f513ed-3ee4-430d-b388-7b06d5e7ff2d",
   "metadata": {},
   "source": [
    "---\n",
    "title: \"Web Scraping with Scrapy\"\n",
    "author: \"Jade Liang\"\n",
    "date: \"2024-10-30\"\n",
    "categories: [scrapy, pandas, matplotlib]\n",
    "format:\n",
    "  html:\n",
    "    toc: true\n",
    "    html-math-method: katex\n",
    "code-block-bg: true\n",
    "code-block-border-left: \"#31BAE9\"\n",
    "code-line-numbers: false\n",
    "code-copy: true\n",
    "execute:\n",
    "  echo: true\n",
    "  output: false\n",
    "---"
   ]
  },
  {
   "attachments": {},
   "cell_type": "markdown",
   "id": "3112e5ef",
   "metadata": {},
   "source": [
    "In this post, I'm going to make a web scraper using `Scrapy` to scrape https://www.themoviedb.org, and use the scraped data to discover which movies and TV shows have the same actors as the ones in my favorite movie, The Help."
   ]
  },
  {
   "attachments": {},
   "cell_type": "markdown",
   "id": "c043af67",
   "metadata": {},
   "source": [
    "# 1. Writing a Scraper Using `Scrapy`"
   ]
  },
  {
   "attachments": {},
   "cell_type": "markdown",
   "id": "55aefa0d",
   "metadata": {},
   "source": [
    "## 1.1 Setting Up"
   ]
  },
  {
   "attachments": {},
   "cell_type": "markdown",
   "id": "2731c5f9",
   "metadata": {},
   "source": [
    "To write a webscraper using `Scrapy`, first navigate to where you want to save your webscraper files on terminal. Then, type the following code in your terminal window. This will initialize your project by creating a series of files for your web scraper. If this is your first time using `Scrapy`, you may want to first install `scrapy` by entering pip install scrapy in your terminal window. "
   ]
  },
  {
   "attachments": {},
   "cell_type": "markdown",
   "id": "368c9ba0",
   "metadata": {},
   "source": [
    "```\n",
    "# install scrapy if it's your first time using it\n",
    "pip install scrapy\n",
    "```"
   ]
  },
  {
   "attachments": {},
   "cell_type": "markdown",
   "id": "f5ed3822",
   "metadata": {},
   "source": [
    "```\n",
    "conda activate PIC16B-24F\n",
    "scrapy startproject TMDB_scraper\n",
    "cd TMDB_scraper\n",
    "```"
   ]
  },
  {
   "attachments": {},
   "cell_type": "markdown",
   "id": "6f735852",
   "metadata": {},
   "source": [
    "Now, navigate to `settings.py` and add the following line. This line is implemented to prevent your scraper from downloading too many files while you're still testing your scraper. You can remove this line after you're done testing and implementing your web scraper."
   ]
  },
  {
   "cell_type": "code",
   "execution_count": null,
   "id": "ba3e1d1b",
   "metadata": {},
   "outputs": [],
   "source": [
    "CLOSESPIDER_PAGECOUNT = 20"
   ]
  },
  {
   "attachments": {},
   "cell_type": "markdown",
   "id": "1c33540c",
   "metadata": {},
   "source": [
    "## 1.2 Creating a Spider"
   ]
  },
  {
   "attachments": {},
   "cell_type": "markdown",
   "id": "9d63e0b0",
   "metadata": {},
   "source": [
    "We'll now create a spider to crawl (follow links) the [page](https://www.themoviedb.org/movie/50014-the-help) of my favorite movie and extract data. In `scrapy`, spiders are classes that defines how a site will be scraped. You can read more about it on its [official documentation](https://www.google.com/url?sa=t&source=web&rct=j&opi=89978449&url=https://docs.scrapy.org/en/2.11/topics/spiders.html%23:~:text%3DSpiders%2520are%2520classes%2520which%2520define,pages%2520(i.e.%2520scraping%2520items).&ved=2ahUKEwiX0YeFqb-JAxULLkQIHcKzAsgQFnoECBkQAw&usg=AOvVaw2LrYOrP8VJkFEHJ7eFEqwM).\n",
    "\n",
    "First, create a file inside the `spiders` directory and name it `tmdb_spider.py`. Then, add the following lines to `tmdb_spider.py`."
   ]
  },
  {
   "cell_type": "code",
   "execution_count": 4,
   "id": "b88f8f00",
   "metadata": {},
   "outputs": [],
   "source": [
    "import scrapy\n",
    "\n",
    "class TmdbSpider(scrapy.Spider):\n",
    "    name = 'tmdb_spider'    # names the spider `tmdb_spider`\n",
    "    def __init__(self, subdir=\"\", *args, **kwargs):\n",
    "        self.start_urls = [f\"https://www.themoviedb.org/movie/{subdir}/\"]"
   ]
  },
  {
   "attachments": {},
   "cell_type": "markdown",
   "id": "a748ac3c",
   "metadata": {},
   "source": [
    "To run the spider, you can run the following command on your terminal window. Feel free to replace the content in `subdir=` with the subdirectory of your favorite TV show or movie from the TMDB website!"
   ]
  },
  {
   "attachments": {},
   "cell_type": "markdown",
   "id": "e348ac0f",
   "metadata": {},
   "source": [
    "```\n",
    "scrapy crawl tmdb_spider -o movies.csv -a subdir=50014-the-help\n",
    "```"
   ]
  },
  {
   "attachments": {},
   "cell_type": "markdown",
   "id": "653261d7",
   "metadata": {},
   "source": [
    "Note that many websites will set up mechanisms to prevent users from using a Scrapy spider on their website by returning a *403 Error*. To prevent this error from happening, we we can implement a fake user-agent in `settings.py`. Now, navigate to `settings.py` in your TMDB_scraper folder, add the following line: "
   ]
  },
  {
   "cell_type": "code",
   "execution_count": 3,
   "id": "7e22c4b7",
   "metadata": {},
   "outputs": [],
   "source": [
    "# settings.py\n",
    "\n",
    "USER_AGENT = 'Mozilla/5.0 (iPad; CPU OS 12_2 like Mac OS X) AppleWebKit/605.1.15 (KHTML, like Gecko) Mobile/15E148'"
   ]
  },
  {
   "attachments": {},
   "cell_type": "markdown",
   "id": "47ee6bed",
   "metadata": {},
   "source": [
    "## 1.3 Implementing Parsing Methods"
   ]
  },
  {
   "attachments": {},
   "cell_type": "markdown",
   "id": "9be6b333",
   "metadata": {},
   "source": [
    "We'll now define three parsing methods for the `TmdbSpider` class."
   ]
  },
  {
   "attachments": {},
   "cell_type": "markdown",
   "id": "75c74aac",
   "metadata": {},
   "source": [
    "Our first parsing method, `parse(self, response)`, will navigate from a movie page on themoviedb.org to the Full Cast & Crew page. Instead of returning anything, this function will yield a `scrapy.Request`, and specifies `parse_full_credits()` as the callback. This callback function, parse_full_credits, will handle the response from the cast page and is responsible for processing the cast information.\n",
    "\n",
    "Here's what the function looks like:"
   ]
  },
  {
   "cell_type": "code",
   "execution_count": 10,
   "id": "359cbfdd",
   "metadata": {},
   "outputs": [
    {
     "name": "stdout",
     "output_type": "stream",
     "text": [
      "    def parse(self, response):\n",
      "        \"\"\"starting from a movie page on themoviedb.org, navigates to the Full Cast & Crew page\n",
      "\n",
      "        i.e. starting from f\"https://www.themoviedb.org/movie/{subdir}\"\n",
      "               go to f\"https://www.themoviedb.org/movie/{subdir}/cast\"\n",
      "\n",
      "        Args:\n",
      "            self (Spider): the instance of the spider calling this method\n",
      "            response (scrapy.http.Response): the response object containing the movie page data, \n",
      "                                            from which the cast page URL will be derived and followed.\n",
      "        \"\"\"\n",
      "\n",
      "        # to get url for Full Cast & Crew page\n",
      "        cast_url = self.start_urls[0] + \"cast\"\n",
      "\n",
      "        # navigates to Full Cast & Crew page\n",
      "        yield scrapy.http.Request(url = cast_url, \n",
      "                                    callback = self.parse_full_credits)\n",
      "\n"
     ]
    }
   ],
   "source": [
    "#| echo: false\n",
    "#| output: true\n",
    "from TMDB_scraper.TMDB_scraper.spiders.tmdb_spider import TmdbSpider\n",
    "import inspect\n",
    "spider = TmdbSpider()\n",
    "print(inspect.getsource(spider.parse))"
   ]
  },
  {
   "attachments": {},
   "cell_type": "markdown",
   "id": "2d666294",
   "metadata": {},
   "source": [
    "Then, we'll define our second parsing method, `parse_full_credits(self, response)`. Again, this method will not return anything, but rather yield a scrapy.Response for each actor's page that is reached, and specifies `parse_actor_page` as the callback. \n",
    "\n",
    "Here's what the function looks like:"
   ]
  },
  {
   "cell_type": "code",
   "execution_count": 11,
   "id": "8b7668c5",
   "metadata": {},
   "outputs": [
    {
     "name": "stdout",
     "output_type": "stream",
     "text": [
      "    def parse_full_credits(self, response):\n",
      "        \"\"\"assuming we start on Full Cast & Crew Page, yields a scrapy.Request for each actor listed on \n",
      "            this page\n",
      "\n",
      "        Args:\n",
      "            self (Spider): the instance of the spider calling this method\n",
      "            response (scrapy.http.Response): the response object containing the movie page data, \n",
      "                                            from which the cast page URL will be derived and followed.\n",
      "        \"\"\"\n",
      "        # to get a list of all cast names (excluding crew)\n",
      "        actors =  response.css(\"ol[class='people credits '] div[class=info] a::attr(href)\").getall()\n",
      "\n",
      "        # yield a scrapy.Request for each actor\n",
      "        for actor in actors:\n",
      "            actor_url = \"https://www.themoviedb.org\" + actor\n",
      "            yield scrapy.http.Request(url = actor_url,\n",
      "                                        callback = self.parse_actor_page)\n",
      "\n"
     ]
    }
   ],
   "source": [
    "#| echo: false\n",
    "#| output: true\n",
    "print(inspect.getsource(spider.parse_full_credits))"
   ]
  },
  {
   "attachments": {},
   "cell_type": "markdown",
   "id": "2ee9bfac",
   "metadata": {},
   "source": [
    "Lastly, we'll implement `parse_actor_page(self, response)`. This method will scrape the page of an actor and extract data regarding each movie=TV show that the actor has worked in an \"Acting\" role.\n",
    "\n",
    "Here's what the function looks like:"
   ]
  },
  {
   "cell_type": "code",
   "execution_count": 12,
   "id": "8c11519d",
   "metadata": {},
   "outputs": [
    {
     "name": "stdout",
     "output_type": "stream",
     "text": [
      "    def parse_actor_page(self, response):\n",
      "        \"\"\"assuming we start on page of an actor, scrapes page to get data regading each movie/TV show that\n",
      "            actor has worked in an \"Acting\" role\n",
      "        \n",
      "        Args:\n",
      "            self (Spider): the instance of the spider calling this method\n",
      "            response (scrapy.http.Response): the response object containing the movie page data, \n",
      "                                            from which the cast page URL will be derived and followed.\n",
      "\n",
      "        Returns:\n",
      "            a dictionary containing two key value pairs of the form\n",
      "                    {\"actor\": actor_name, \"movie_or_TV_name: movie_or_TV_name\"}\n",
      "        \"\"\"\n",
      "\n",
      "        # extracting actor name from page\n",
      "        actor_name = response.css(\"h2[class=title] a::text\").get()  \n",
      "\n",
      "        # extracting list of all shows/movies actor has been in\n",
      "        movie_or_TV_name = response.css(\"a[class=tooltip] bdi::text\").getall()\n",
      "        \n",
      "        # returning desired dictionary\n",
      "        yield {\"actor\": actor_name, \n",
      "                \"movie_or_TV_name\": movie_or_TV_name}\n",
      "\n"
     ]
    }
   ],
   "source": [
    "#| echo: false\n",
    "#| output: true\n",
    "print(inspect.getsource(spider.parse_actor_page))"
   ]
  },
  {
   "attachments": {},
   "cell_type": "markdown",
   "id": "6d94c882",
   "metadata": {},
   "source": [
    "After successfully implementing these methods, you can remove the line `CLOSESPIDER_PAGECOUNT = 20` in `settings.py` and run the following line to export the extracted data into a csv file called `results.csv` in the `TMDB_scraper` directory."
   ]
  },
  {
   "attachments": {},
   "cell_type": "markdown",
   "id": "7a00f3e5",
   "metadata": {},
   "source": [
    "```\n",
    "scrapy crawl tmdb_spider -o results.csv -a subdir=50014-the-help\n",
    "```"
   ]
  },
  {
   "attachments": {},
   "cell_type": "markdown",
   "id": "780c2d9b",
   "metadata": {},
   "source": [
    "# 2. Making Recommendations"
   ]
  },
  {
   "attachments": {},
   "cell_type": "markdown",
   "id": "cb590e4a",
   "metadata": {},
   "source": [
    "Here's what the `resuls.csv` should look like!"
   ]
  },
  {
   "cell_type": "code",
   "execution_count": 21,
   "id": "1a1a7d9b",
   "metadata": {},
   "outputs": [
    {
     "data": {
      "text/html": [
       "<div>\n",
       "<style scoped>\n",
       "    .dataframe tbody tr th:only-of-type {\n",
       "        vertical-align: middle;\n",
       "    }\n",
       "\n",
       "    .dataframe tbody tr th {\n",
       "        vertical-align: top;\n",
       "    }\n",
       "\n",
       "    .dataframe thead th {\n",
       "        text-align: right;\n",
       "    }\n",
       "</style>\n",
       "<table border=\"1\" class=\"dataframe\">\n",
       "  <thead>\n",
       "    <tr style=\"text-align: right;\">\n",
       "      <th></th>\n",
       "      <th>actor</th>\n",
       "      <th>movie_or_TV_name</th>\n",
       "    </tr>\n",
       "  </thead>\n",
       "  <tbody>\n",
       "    <tr>\n",
       "      <th>0</th>\n",
       "      <td>Lamar Lott</td>\n",
       "      <td>The Wilderness Road,Ma,Christmas in Mississipp...</td>\n",
       "    </tr>\n",
       "    <tr>\n",
       "      <th>1</th>\n",
       "      <td>Elizabeth Smith</td>\n",
       "      <td>The Help</td>\n",
       "    </tr>\n",
       "    <tr>\n",
       "      <th>2</th>\n",
       "      <td>Charles Orr</td>\n",
       "      <td>Raising Dion,The Best of Enemies,The Final Pro...</td>\n",
       "    </tr>\n",
       "    <tr>\n",
       "      <th>3</th>\n",
       "      <td>Mary Taylor Killebrew</td>\n",
       "      <td>The Help</td>\n",
       "    </tr>\n",
       "    <tr>\n",
       "      <th>4</th>\n",
       "      <td>Emma Stone</td>\n",
       "      <td>Cruella 2,Checkmate,Untitled Dave McCary Film,...</td>\n",
       "    </tr>\n",
       "  </tbody>\n",
       "</table>\n",
       "</div>"
      ],
      "text/plain": [
       "                   actor                                   movie_or_TV_name\n",
       "0             Lamar Lott  The Wilderness Road,Ma,Christmas in Mississipp...\n",
       "1        Elizabeth Smith                                           The Help\n",
       "2            Charles Orr  Raising Dion,The Best of Enemies,The Final Pro...\n",
       "3  Mary Taylor Killebrew                                           The Help\n",
       "4             Emma Stone  Cruella 2,Checkmate,Untitled Dave McCary Film,..."
      ]
     },
     "execution_count": 21,
     "metadata": {},
     "output_type": "execute_result"
    }
   ],
   "source": [
    "#| output: true\n",
    "import pandas as pd\n",
    "df = pd.read_csv(\"results.csv\")\n",
    "df.head()"
   ]
  },
  {
   "attachments": {},
   "cell_type": "markdown",
   "id": "ee82370d",
   "metadata": {},
   "source": [
    "Let's clean up the dataframe so that we can make interesting visualizations from it!"
   ]
  },
  {
   "cell_type": "code",
   "execution_count": 23,
   "id": "14b95353",
   "metadata": {},
   "outputs": [
    {
     "data": {
      "text/html": [
       "<div>\n",
       "<style scoped>\n",
       "    .dataframe tbody tr th:only-of-type {\n",
       "        vertical-align: middle;\n",
       "    }\n",
       "\n",
       "    .dataframe tbody tr th {\n",
       "        vertical-align: top;\n",
       "    }\n",
       "\n",
       "    .dataframe thead th {\n",
       "        text-align: right;\n",
       "    }\n",
       "</style>\n",
       "<table border=\"1\" class=\"dataframe\">\n",
       "  <thead>\n",
       "    <tr style=\"text-align: right;\">\n",
       "      <th></th>\n",
       "      <th>actor</th>\n",
       "      <th>movie_or_TV_name</th>\n",
       "    </tr>\n",
       "  </thead>\n",
       "  <tbody>\n",
       "    <tr>\n",
       "      <th>0</th>\n",
       "      <td>Lamar Lott</td>\n",
       "      <td>The Wilderness Road</td>\n",
       "    </tr>\n",
       "    <tr>\n",
       "      <th>0</th>\n",
       "      <td>Lamar Lott</td>\n",
       "      <td>Ma</td>\n",
       "    </tr>\n",
       "    <tr>\n",
       "      <th>0</th>\n",
       "      <td>Lamar Lott</td>\n",
       "      <td>Christmas in Mississippi</td>\n",
       "    </tr>\n",
       "    <tr>\n",
       "      <th>0</th>\n",
       "      <td>Lamar Lott</td>\n",
       "      <td>Same Kind of Different as Me</td>\n",
       "    </tr>\n",
       "    <tr>\n",
       "      <th>0</th>\n",
       "      <td>Lamar Lott</td>\n",
       "      <td>The Hollars</td>\n",
       "    </tr>\n",
       "  </tbody>\n",
       "</table>\n",
       "</div>"
      ],
      "text/plain": [
       "        actor              movie_or_TV_name\n",
       "0  Lamar Lott           The Wilderness Road\n",
       "0  Lamar Lott                            Ma\n",
       "0  Lamar Lott      Christmas in Mississippi\n",
       "0  Lamar Lott  Same Kind of Different as Me\n",
       "0  Lamar Lott                   The Hollars"
      ]
     },
     "execution_count": 23,
     "metadata": {},
     "output_type": "execute_result"
    }
   ],
   "source": [
    "#| output: true\n",
    "# Split the 'movie_or_TV_name' column by comma and expand \n",
    "#  into multiple rows\n",
    "df['movie_or_TV_name'] = df['movie_or_TV_name'].str.split(',')\n",
    "df = df.explode('movie_or_TV_name')\n",
    "\n",
    "# Remove any leading/trailing whitespace from movie/TV names\n",
    "df['movie_or_TV_name'] = df['movie_or_TV_name'].str.strip()\n",
    "\n",
    "# Display the resulting DataFrame\n",
    "df.head()"
   ]
  },
  {
   "attachments": {},
   "cell_type": "markdown",
   "id": "f8586c51",
   "metadata": {},
   "source": [
    "Perfect! Now we're ready to visualize it."
   ]
  },
  {
   "cell_type": "code",
   "execution_count": 24,
   "id": "bffbace1",
   "metadata": {},
   "outputs": [
    {
     "data": {
      "image/png": "[encoded data removed]",
      "text/plain": [
       "<Figure size 1000x600 with 1 Axes>"
      ]
     },
     "metadata": {},
     "output_type": "display_data"
    }
   ],
   "source": [
    "#| output: true\n",
    "import matplotlib.pyplot as plt\n",
    "\n",
    "# count movies or TV shows per actor\n",
    "actor_counts = df.groupby(\n",
    "    'actor')['movie_or_TV_name'].nunique().sort_values(\n",
    "        scending=False)\n",
    "\n",
    "# plot bar chart\n",
    "plt.figure(figsize=(10, 6))\n",
    "actor_counts.head(10).plot(kind='bar', color='teal')\n",
    "plt.xlabel(\"Actor\")\n",
    "plt.ylabel(\"Number of Unique Movies/TV Shows\")\n",
    "plt.title(\"Top Actors by Number of Movie/TV Credits\")\n",
    "plt.xticks(rotation=45)\n",
    "plt.show()"
   ]
  },
  {
   "cell_type": "code",
   "execution_count": null,
   "id": "166a013c",
   "metadata": {},
   "outputs": [],
   "source": []
  }
 ],
 "metadata": {
  "kernelspec": {
   "display_name": "Python 3 (ipykernel)",
   "language": "python",
   "name": "python3"
  },
  "language_info": {
   "codemirror_mode": {
    "name": "ipython",
    "version": 3
   },
   "file_extension": ".py",
   "mimetype": "text/x-python",
   "name": "python",
   "nbconvert_exporter": "python",
   "pygments_lexer": "ipython3",
   "version": "3.12.4"
  }
 },
 "nbformat": 4,
 "nbformat_minor": 5
}
