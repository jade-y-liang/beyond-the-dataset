{
 "cells": [
  {
   "cell_type": "raw",
   "id": "f5f513ed-3ee4-430d-b388-7b06d5e7ff2d",
   "metadata": {},
   "source": [
    "---\n",
    "title: \"Sample\"\n",
    "author: \"Jade Liang\"\n",
    "date: \"2024-10-1\"\n",
    "categories: [template]\n",
    "---"
   ]
  },
  {
   "attachments": {},
   "cell_type": "markdown",
   "id": "0e91356f",
   "metadata": {},
   "source": []
  }
 ],
 "metadata": {
  "kernelspec": {
   "display_name": "Python 3 (ipykernel)",
   "language": "python",
   "name": "python3"
  },
  "language_info": {
   "codemirror_mode": {
    "name": "ipython",
    "version": 3
   },
   "file_extension": ".py",
   "mimetype": "text/x-python",
   "name": "python",
   "nbconvert_exporter": "python",
   "pygments_lexer": "ipython3",
   "version": "3.11.5"
  }
 },
 "nbformat": 4,
 "nbformat_minor": 5
}
