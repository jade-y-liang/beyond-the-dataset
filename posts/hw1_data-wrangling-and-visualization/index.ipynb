{
 "cells": [
  {
   "cell_type": "raw",
   "id": "f5f513ed-3ee4-430d-b388-7b06d5e7ff2d",
   "metadata": {},
   "source": [
    "---\n",
    "title: \"Creating Databases, Query Functions, and Interactive Plots\"\n",
    "author: \"Jade Liang\"\n",
    "date: \"2024-10-23\"\n",
    "categories: [sqlite3, SQL, pandas, sklearn, plotly]\n",
    "format:\n",
    "  html:\n",
    "    toc: true\n",
    "    html-math-method: katex\n",
    "code-block-bg: true\n",
    "code-block-border-left: \"#31BAE9\"\n",
    "code-line-numbers: false\n",
    "execute:\n",
    "  echo: false\n",
    "---"
   ]
  },
  {
   "cell_type": "code",
   "execution_count": 1,
   "id": "4a3e6072",
   "metadata": {},
   "outputs": [],
   "source": [
    "import plotly.io as pio\n",
    "pio.renderers.default=\"iframe\""
   ]
  },
  {
   "attachments": {},
   "cell_type": "markdown",
   "id": "ca4f328e",
   "metadata": {},
   "source": [
    "Welcome! In this blog post, I'll show you how to create a database, write a query function to access data from tables in a database, and create interesting visualizations using Plotly Express."
   ]
  },
  {
   "attachments": {},
   "cell_type": "markdown",
   "id": "6a19ff95",
   "metadata": {},
   "source": [
    "# 1. Create a Database"
   ]
  },
  {
   "attachments": {},
   "cell_type": "markdown",
   "id": "340b64d1",
   "metadata": {},
   "source": [
    "First, we'll import the `sqlite3` and `pandas` packages. Then, using `sqlite3.connect()`, we'll create a database in our current directory called `temps.db`."
   ]
  },
  {
   "cell_type": "code",
   "execution_count": 2,
   "id": "91f885d5",
   "metadata": {},
   "outputs": [],
   "source": [
    "#| echo: true\n",
    "# importing necessary package\n",
    "import sqlite3\n",
    "import pandas as pd\n",
    "\n",
    "# to create a database in the current directory called temps.db\n",
    "conn = sqlite3.connect(\"temps.db\") "
   ]
  },
  {
   "attachments": {},
   "cell_type": "markdown",
   "id": "f3efac29",
   "metadata": {},
   "source": [
    "We'll be creating a new folder named `datafiles`, then downloading the `temperatures` datas into our new folder. "
   ]
  },
  {
   "cell_type": "code",
   "execution_count": 3,
   "id": "7104715e",
   "metadata": {},
   "outputs": [],
   "source": [
    "#| echo: true\n",
    "import os\n",
    "# create folder named \"datafiles\" if it does not exist\n",
    "if not os.path.exists(\"datafiles\"): \n",
    "    os.mkdir(\"datafiles\")\n",
    "\n",
    "# download the files for the `temperatures` table\n",
    "import urllib.request\n",
    "intervals = [f\"{10 * i + 1}-{10 * (i+1)}\" for i in range(190, 202)]\n",
    "for interval in intervals:\n",
    "    url = f\"https://raw.githubusercontent.com/PIC16B-ucla/24F/main/datasets/noaa-ghcn/decades/{interval}.csv\"\n",
    "    urllib.request.urlretrieve(url, f\"datafiles/{interval}.csv\")"
   ]
  },
  {
   "attachments": {},
   "cell_type": "markdown",
   "id": "fa402029",
   "metadata": {},
   "source": [
    "Next, we'll upload the tables `temperatures`, `stations`, and `countries` into our database. Note that there are some NaN values in the `temperatures` dataset. I've removed them using the `prepare_df()` function.  Here's what the `prepare_df()` looks like:"
   ]
  },
  {
   "cell_type": "code",
   "execution_count": 4,
   "id": "2b2de94f",
   "metadata": {},
   "outputs": [],
   "source": [
    "#| echo: true\n",
    "def prepare_df(df):\n",
    "    \"\"\"\n",
    "    prepares a piece of wide format dataframe into a long format data frame\n",
    "    \"\"\"\n",
    "    # melt to the long format table\n",
    "    df = df.melt(\n",
    "        id_vars = [\"ID\", \"Year\"],\n",
    "        value_vars = [f\"VALUE{i}\" for i in range(1, 13)],\n",
    "        var_name = \"Month\",\n",
    "        value_name = \"Temp\"\n",
    "    )\n",
    "\n",
    "    # cleaning month and temp\n",
    "    df[\"Month\"] = df[\"Month\"].str[5:].astype(int)\n",
    "    df[\"Temp\"]  = df[\"Temp\"] / 100\n",
    "\n",
    "    # removing rows where Temp == NaN\n",
    "    df = df.dropna(subset = \"Temp\")\n",
    "\n",
    "    return df"
   ]
  },
  {
   "cell_type": "code",
   "execution_count": 5,
   "id": "e8b8752c",
   "metadata": {},
   "outputs": [
    {
     "data": {
      "text/plain": [
       "279"
      ]
     },
     "execution_count": 5,
     "metadata": {},
     "output_type": "execute_result"
    }
   ],
   "source": [
    "#| echo: true\n",
    "#| output: false\n",
    "for i, interval in enumerate(intervals):\n",
    "    filepath = f\"datafiles/{interval}.csv\"\n",
    "    df = pd.read_csv(filepath)\n",
    "    df = prepare_df(df) # prepares temperatures df and removes nan values\n",
    "    df.to_sql(\"temperatures\", conn, \n",
    "              if_exists = \"replace\" if i == 0 else \"append\", index = False)\n",
    "\n",
    "url = \"https://raw.githubusercontent.com/PIC16B-ucla/24F/refs/heads/main/datasets/noaa-ghcn/station-metadata.csv\"\n",
    "stations = pd.read_csv(url)\n",
    "stations.to_sql(\"stations\", conn, if_exists = \"replace\", index=False)\n",
    "\n",
    "countries_url = \"https://raw.githubusercontent.com/mysociety/gaze/master/data/fips-10-4-to-iso-country-codes.csv\"\n",
    "countries = pd.read_csv(countries_url)\n",
    "countries.to_sql(\"countries\", conn, if_exists = \"replace\", index=False)"
   ]
  },
  {
   "attachments": {},
   "cell_type": "markdown",
   "id": "f26314ce",
   "metadata": {},
   "source": [
    "Let's check if our tables have been successfully uploaded into our database."
   ]
  },
  {
   "cell_type": "code",
   "execution_count": 6,
   "id": "30e50d8f",
   "metadata": {},
   "outputs": [
    {
     "name": "stdout",
     "output_type": "stream",
     "text": [
      "[('temperatures',), ('stations',), ('countries',)]\n"
     ]
    }
   ],
   "source": [
    "#| echo: true\n",
    "cursor = conn.cursor()\n",
    "cursor.execute(\"SELECT name FROM sqlite_master WHERE type='table'\")\n",
    "print(cursor.fetchall())"
   ]
  },
  {
   "attachments": {},
   "cell_type": "markdown",
   "id": "1b51b9b2",
   "metadata": {},
   "source": [
    "Looks good! Now, after we're done uploading tables to our database, let's close our connection to our database using `conn.close()`. It's generally a good practice to do this. "
   ]
  },
  {
   "cell_type": "code",
   "execution_count": 7,
   "id": "85eb702a",
   "metadata": {},
   "outputs": [],
   "source": [
    "#| echo: true\n",
    "conn.close()"
   ]
  },
  {
   "attachments": {},
   "cell_type": "markdown",
   "id": "f71be850",
   "metadata": {},
   "source": [
    "# 2. Write a Query Function"
   ]
  },
  {
   "attachments": {},
   "cell_type": "markdown",
   "id": "e1cbe34e",
   "metadata": {},
   "source": [
    "Now that we have our tables in the database, let's create a query function to allow easy access to our data in the database. I've created the function in... Here's what the function looks like:"
   ]
  },
  {
   "cell_type": "code",
   "execution_count": 8,
   "id": "c6daa316",
   "metadata": {},
   "outputs": [
    {
     "name": "stdout",
     "output_type": "stream",
     "text": [
      "def query_climate_database(db_file, country, year_begin, year_end, month) :\n",
      "    \"\"\" Extracts climate data from a specified database based on the provided country, \n",
      "        year range, and month; and returns extracted data in a Pandas dataframe\n",
      "\n",
      "    Args:\n",
      "        db_file (string): file name for the database\n",
      "        country (string): name of the country for which data should be returned\n",
      "        year_begin (integer): the earliest year for which should be returned\n",
      "        year_end (integer): the latest years for which to should returned\n",
      "        month (integer): the month of the year for which should be returned\n",
      "\n",
      "    Returns:\n",
      "        df (Pandas dataframe): a dataframe of temperature readings of inputted country according to \n",
      "            inputted year_begin, inputted year_end, and inputted month of the year. The\n",
      "            resulting dataframe contains the columns `NAME`, 'LATITUDE', 'LONGITUDE`, \n",
      "            `Country`, `Year`, `Month`, `Temp`.\n",
      "    \"\"\"\n",
      "\n",
      "    with sqlite3.connect(db_file) as conn:\n",
      "        df = pd.read_sql_query(\"\"\"\n",
      "                    SELECT s.*, c.Name AS Country, t.*\n",
      "                    FROM stations s\n",
      "                    INNER JOIN countries c\n",
      "                    ON c.\"FIPS 10-4\" = SUBSTR(s.ID, 1, 2)\n",
      "                    INNER JOIN temperatures t\n",
      "                    ON t.ID = s.ID\n",
      "                    WHERE c.Name = ? AND t.Year >= ? AND t.Year <= ? AND t.Month = ?   \n",
      "                    ORDER BY NAME                            \n",
      "                    \"\"\", conn, params=(country, year_begin, year_end, month))\n",
      "        \n",
      "        # returns dataframe in order of columns mentioned before\n",
      "    return df[[\"NAME\", \"LATITUDE\", \"LONGITUDE\", \"Country\", \"Year\", \"Month\", \"Temp\"]]    \n",
      "\n"
     ]
    }
   ],
   "source": [
    "#| echo: true\n",
    "from climate_database import query_climate_database\n",
    "import inspect\n",
    "print(inspect.getsource(query_climate_database))"
   ]
  },
  {
   "attachments": {},
   "cell_type": "markdown",
   "id": "4b904f87",
   "metadata": {},
   "source": [
    "This is what the resulting dataframe looks like:"
   ]
  },
  {
   "cell_type": "code",
   "execution_count": 9,
   "id": "5b2ebd34",
   "metadata": {
    "scrolled": true
   },
   "outputs": [
    {
     "data": {
      "text/html": [
       "<div>\n",
       "<style scoped>\n",
       "    .dataframe tbody tr th:only-of-type {\n",
       "        vertical-align: middle;\n",
       "    }\n",
       "\n",
       "    .dataframe tbody tr th {\n",
       "        vertical-align: top;\n",
       "    }\n",
       "\n",
       "    .dataframe thead th {\n",
       "        text-align: right;\n",
       "    }\n",
       "</style>\n",
       "<table border=\"1\" class=\"dataframe\">\n",
       "  <thead>\n",
       "    <tr style=\"text-align: right;\">\n",
       "      <th></th>\n",
       "      <th>NAME</th>\n",
       "      <th>LATITUDE</th>\n",
       "      <th>LONGITUDE</th>\n",
       "      <th>Country</th>\n",
       "      <th>Year</th>\n",
       "      <th>Month</th>\n",
       "      <th>Temp</th>\n",
       "    </tr>\n",
       "  </thead>\n",
       "  <tbody>\n",
       "    <tr>\n",
       "      <th>0</th>\n",
       "      <td>AGARTALA</td>\n",
       "      <td>23.883</td>\n",
       "      <td>91.250</td>\n",
       "      <td>India</td>\n",
       "      <td>1980</td>\n",
       "      <td>1</td>\n",
       "      <td>18.21</td>\n",
       "    </tr>\n",
       "    <tr>\n",
       "      <th>1</th>\n",
       "      <td>AGARTALA</td>\n",
       "      <td>23.883</td>\n",
       "      <td>91.250</td>\n",
       "      <td>India</td>\n",
       "      <td>1981</td>\n",
       "      <td>1</td>\n",
       "      <td>18.25</td>\n",
       "    </tr>\n",
       "    <tr>\n",
       "      <th>2</th>\n",
       "      <td>AGARTALA</td>\n",
       "      <td>23.883</td>\n",
       "      <td>91.250</td>\n",
       "      <td>India</td>\n",
       "      <td>1982</td>\n",
       "      <td>1</td>\n",
       "      <td>19.31</td>\n",
       "    </tr>\n",
       "    <tr>\n",
       "      <th>3</th>\n",
       "      <td>AGARTALA</td>\n",
       "      <td>23.883</td>\n",
       "      <td>91.250</td>\n",
       "      <td>India</td>\n",
       "      <td>1985</td>\n",
       "      <td>1</td>\n",
       "      <td>19.25</td>\n",
       "    </tr>\n",
       "    <tr>\n",
       "      <th>4</th>\n",
       "      <td>AGARTALA</td>\n",
       "      <td>23.883</td>\n",
       "      <td>91.250</td>\n",
       "      <td>India</td>\n",
       "      <td>1988</td>\n",
       "      <td>1</td>\n",
       "      <td>19.54</td>\n",
       "    </tr>\n",
       "    <tr>\n",
       "      <th>...</th>\n",
       "      <td>...</td>\n",
       "      <td>...</td>\n",
       "      <td>...</td>\n",
       "      <td>...</td>\n",
       "      <td>...</td>\n",
       "      <td>...</td>\n",
       "      <td>...</td>\n",
       "    </tr>\n",
       "    <tr>\n",
       "      <th>3147</th>\n",
       "      <td>VISHAKHAPATNAM</td>\n",
       "      <td>17.717</td>\n",
       "      <td>83.233</td>\n",
       "      <td>India</td>\n",
       "      <td>2016</td>\n",
       "      <td>1</td>\n",
       "      <td>25.09</td>\n",
       "    </tr>\n",
       "    <tr>\n",
       "      <th>3148</th>\n",
       "      <td>VISHAKHAPATNAM</td>\n",
       "      <td>17.717</td>\n",
       "      <td>83.233</td>\n",
       "      <td>India</td>\n",
       "      <td>2017</td>\n",
       "      <td>1</td>\n",
       "      <td>23.90</td>\n",
       "    </tr>\n",
       "    <tr>\n",
       "      <th>3149</th>\n",
       "      <td>VISHAKHAPATNAM</td>\n",
       "      <td>17.717</td>\n",
       "      <td>83.233</td>\n",
       "      <td>India</td>\n",
       "      <td>2018</td>\n",
       "      <td>1</td>\n",
       "      <td>22.65</td>\n",
       "    </tr>\n",
       "    <tr>\n",
       "      <th>3150</th>\n",
       "      <td>VISHAKHAPATNAM</td>\n",
       "      <td>17.717</td>\n",
       "      <td>83.233</td>\n",
       "      <td>India</td>\n",
       "      <td>2019</td>\n",
       "      <td>1</td>\n",
       "      <td>22.20</td>\n",
       "    </tr>\n",
       "    <tr>\n",
       "      <th>3151</th>\n",
       "      <td>VISHAKHAPATNAM</td>\n",
       "      <td>17.717</td>\n",
       "      <td>83.233</td>\n",
       "      <td>India</td>\n",
       "      <td>2020</td>\n",
       "      <td>1</td>\n",
       "      <td>23.75</td>\n",
       "    </tr>\n",
       "  </tbody>\n",
       "</table>\n",
       "<p>3152 rows × 7 columns</p>\n",
       "</div>"
      ],
      "text/plain": [
       "                NAME  LATITUDE  LONGITUDE Country  Year  Month   Temp\n",
       "0           AGARTALA    23.883     91.250   India  1980      1  18.21\n",
       "1           AGARTALA    23.883     91.250   India  1981      1  18.25\n",
       "2           AGARTALA    23.883     91.250   India  1982      1  19.31\n",
       "3           AGARTALA    23.883     91.250   India  1985      1  19.25\n",
       "4           AGARTALA    23.883     91.250   India  1988      1  19.54\n",
       "...              ...       ...        ...     ...   ...    ...    ...\n",
       "3147  VISHAKHAPATNAM    17.717     83.233   India  2016      1  25.09\n",
       "3148  VISHAKHAPATNAM    17.717     83.233   India  2017      1  23.90\n",
       "3149  VISHAKHAPATNAM    17.717     83.233   India  2018      1  22.65\n",
       "3150  VISHAKHAPATNAM    17.717     83.233   India  2019      1  22.20\n",
       "3151  VISHAKHAPATNAM    17.717     83.233   India  2020      1  23.75\n",
       "\n",
       "[3152 rows x 7 columns]"
      ]
     },
     "execution_count": 9,
     "metadata": {},
     "output_type": "execute_result"
    }
   ],
   "source": [
    "#| echo: true\n",
    "df = query_climate_database(db_file = \"temps.db\",\n",
    "                       country = \"India\", \n",
    "                       year_begin = 1980, \n",
    "                       year_end = 2020,\n",
    "                       month = 1)\n",
    "df"
   ]
  },
  {
   "attachments": {},
   "cell_type": "markdown",
   "id": "3d7a70aa",
   "metadata": {},
   "source": [
    "# 3. Write a Geographic Scatter Function for Yearly Temperature Increases"
   ]
  },
  {
   "attachments": {},
   "cell_type": "markdown",
   "id": "5746344f",
   "metadata": {},
   "source": [
    "Now that we have easy access to certain subsets of our data, let's visualize our data and see what we can learn from it. To do that, I'll create a function that displays a geographic scatter plot, where eahc point shows the first coefficient of the linear regression model fitted by the temperatures each station in India from 1980 - 2020."
   ]
  },
  {
   "attachments": {},
   "cell_type": "markdown",
   "id": "04d15c1e",
   "metadata": {},
   "source": [
    "To evaluate the coefficients, we'll need to implement a function that utilizes `LinearRegression` from `sklearn.linear_model`."
   ]
  },
  {
   "cell_type": "code",
   "execution_count": 10,
   "id": "f6b12efe",
   "metadata": {},
   "outputs": [],
   "source": [
    "#| echo: true\n",
    "from sklearn.linear_model import LinearRegression\n",
    "def coef(data_group):\n",
    "    \"\"\" fits data to a linear regression model and outputs the first coefficient of the fitted model\n",
    "\n",
    "    Args:\n",
    "        data_group (Pandas dataframe): the data for which to fit to a model\n",
    "    \n",
    "    Returns:\n",
    "        \n",
    "    \"\"\"\n",
    "    x = data_group[[\"Year\"]] # 2 brackets because X should be a df\n",
    "    y = data_group[\"Temp\"]   # 1 bracket because y should be a series\n",
    "    LR = LinearRegression()\n",
    "    LR.fit(x, y)\n",
    "    return LR.coef_[0]"
   ]
  },
  {
   "cell_type": "code",
   "execution_count": 11,
   "id": "bcae94de",
   "metadata": {},
   "outputs": [
    {
     "name": "stdout",
     "output_type": "stream",
     "text": [
      "def temperature_coefficient_plot(db_file, country, year_begin, year_end, month, min_obs, **kwargs) : \n",
      "    \"\"\"creates a geographic scatter plot where each point displays the first coefficent\n",
      "            of the linear regression model fitted for each station's temperature in given year range\n",
      "\n",
      "    Args:\n",
      "        db_file (string): file name for the database\n",
      "        country (string): name of the country for which data should be returned\n",
      "        year_begin (integer): the earliest year for which should be returned\n",
      "        year_end (integer): the latest years for which to should returned\n",
      "        month (integer): the month of the year for which should be returned\n",
      "        min_obs (integer): the minimum required number of years of data for any given station\n",
      "        **kwargs (optional): keyword arguments for the geographic scatter plot\n",
      "    \n",
      "    Returns:\n",
      "        an interactive geographic scatterplot\n",
      "    \"\"\"\n",
      "\n",
      "    df = query_climate_database(db_file, country, year_begin, year_end, month)\n",
      "\n",
      "    # Filter out stations with observations less than min_obs\n",
      "    df['ObsCount'] = df.groupby('NAME')['NAME'].transform('count')\n",
      "    df = df[df['ObsCount'] >= min_obs]\n",
      "\n",
      "    # Fitting each station data to a linear regression model\n",
      "    #   and put the first coefficient of the fitted models into a Pandas dataframe\n",
      "    coefs = df.groupby([\"NAME\", \"Month\"]).apply(coef).round(4).reset_index()\n",
      "\n",
      "    # Adding columns for latitude and longitude for each station in coefs\n",
      "    lat_lon = df[['NAME', 'LATITUDE', 'LONGITUDE']].drop_duplicates('NAME')\n",
      "    coefs = coefs.merge(lat_lon, how='left', left_on='NAME', right_on='NAME')\n",
      "    \n",
      "    # Creating dictionary to match month to month name (for title of plot)\n",
      "    month_dict={1: \"January\", 2: \"February\", 3: \"March\", 4: \"April\",\n",
      "            5: \"May\", 6: \"June\", 7: \"July\", 8: \"August\", 9: \"September\",\n",
      "            10: \"October\", 11: \"November\", 12: \"December\"}\n",
      "    \n",
      "    # Preparing the plot\n",
      "    fig = px.scatter_mapbox(coefs,\n",
      "                            lat=\"LATITUDE\",\n",
      "                            lon=\"LONGITUDE\",\n",
      "                            hover_name=\"NAME\",\n",
      "                            color=0,\n",
      "                            title = f\"Estimates of yearly increase in termperature in {month_dict[month]} <br>for stations in {country}, years {year_begin} - {year_end}\",\n",
      "                            **kwargs)\n",
      "    \n",
      "    # Updating margin and colorbar range\n",
      "    fig.update_layout(margin={\"r\":0,\"t\":50,\"l\":0,\"b\":0}, \n",
      "                      coloraxis=dict(cmax=0.1, cmin=-0.1), # to make colorbar range from -0.1 to 0.1\n",
      "                      coloraxis_colorbar=dict(title='Estimated Yearly<br>Increase (°C)<br>')\n",
      "                      )\n",
      "    \n",
      "    return fig\n",
      "\n"
     ]
    }
   ],
   "source": [
    "#| echo: true\n",
    "from climate_database import temperature_coefficient_plot\n",
    "print(inspect.getsource(temperature_coefficient_plot))"
   ]
  },
  {
   "cell_type": "code",
   "execution_count": 12,
   "id": "17156074-1490-427b-a3ca-74c7c7ff6e75",
   "metadata": {},
   "outputs": [
    {
     "data": {
      "text/html": [
       "<iframe\n",
       "    scrolling=\"no\"\n",
       "    width=\"720px\"\n",
       "    height=\"545px\"\n",
       "    src=\"iframe_figures/figure_12.html\"\n",
       "    frameborder=\"0\"\n",
       "    allowfullscreen\n",
       "></iframe>\n"
      ]
     },
     "metadata": {},
     "output_type": "display_data"
    }
   ],
   "source": [
    "#| echo: true\n",
    "from plotly import express as px\n",
    "\n",
    "color_map = px.colors.sequential.RdBu_r\n",
    "\n",
    "month = 1\n",
    "country = \"India\"\n",
    "year_begin = 1980\n",
    "year_end = 2020\n",
    "fig = temperature_coefficient_plot(\"temps.db\",\"India\", 1980, 2020, 1, \n",
    "                                   min_obs = 10,\n",
    "                                   zoom = 2,\n",
    "                                   mapbox_style=\"carto-positron\",\n",
    "                                   color_continuous_scale=color_map,\n",
    "                                   width = 700)\n",
    "                                 \n",
    "fig.show()"
   ]
  },
  {
   "attachments": {},
   "cell_type": "markdown",
   "id": "ebbba335",
   "metadata": {},
   "source": [
    "It seems that a lot stations that surround the edges of India has a positive coefficient, which indicates that there are trends of increasing temperatures over the past decades. Notice how the stations in the central area of India yields negative coefficients."
   ]
  },
  {
   "attachments": {},
   "cell_type": "markdown",
   "id": "d29a39d4",
   "metadata": {},
   "source": [
    "Let's take a look at a geographic scatter plot for the U.S. during the same time period."
   ]
  },
  {
   "cell_type": "code",
   "execution_count": 13,
   "id": "fdef6aec",
   "metadata": {},
   "outputs": [
    {
     "data": {
      "text/html": [
       "<iframe\n",
       "    scrolling=\"no\"\n",
       "    width=\"720px\"\n",
       "    height=\"545px\"\n",
       "    src=\"iframe_figures/figure_13.html\"\n",
       "    frameborder=\"0\"\n",
       "    allowfullscreen\n",
       "></iframe>\n"
      ]
     },
     "metadata": {},
     "output_type": "display_data"
    }
   ],
   "source": [
    "color_map = px.colors.sequential.RdBu_r\n",
    "\n",
    "month = 1\n",
    "country = \"India\"\n",
    "year_begin = 1980\n",
    "year_end = 2020\n",
    "fig = temperature_coefficient_plot(\"temps.db\",\"United States\", 1980, 2020, 1, \n",
    "                                   min_obs = 10,\n",
    "                                   zoom = 2,\n",
    "                                   mapbox_style=\"carto-positron\",\n",
    "                                   color_continuous_scale=color_map,\n",
    "                                   width = 700)\n",
    "                                 \n",
    "fig.show()"
   ]
  },
  {
   "attachments": {},
   "cell_type": "markdown",
   "id": "334bc7fe",
   "metadata": {},
   "source": [
    "# 4. Create Two More Interesting Figures"
   ]
  },
  {
   "attachments": {},
   "cell_type": "markdown",
   "id": "30e9341c",
   "metadata": {},
   "source": [
    "Let's see how the average annual temperatures has changed over the years."
   ]
  },
  {
   "cell_type": "code",
   "execution_count": 14,
   "id": "f83ed478-b470-4971-af23-6e99d02a1596",
   "metadata": {},
   "outputs": [
    {
     "data": {
      "text/html": [
       "<div>\n",
       "<style scoped>\n",
       "    .dataframe tbody tr th:only-of-type {\n",
       "        vertical-align: middle;\n",
       "    }\n",
       "\n",
       "    .dataframe tbody tr th {\n",
       "        vertical-align: top;\n",
       "    }\n",
       "\n",
       "    .dataframe thead th {\n",
       "        text-align: right;\n",
       "    }\n",
       "</style>\n",
       "<table border=\"1\" class=\"dataframe\">\n",
       "  <thead>\n",
       "    <tr style=\"text-align: right;\">\n",
       "      <th></th>\n",
       "      <th>NAME</th>\n",
       "      <th>LATITUDE</th>\n",
       "      <th>LONGITUDE</th>\n",
       "      <th>Year</th>\n",
       "      <th>Month</th>\n",
       "      <th>Temp</th>\n",
       "    </tr>\n",
       "  </thead>\n",
       "  <tbody>\n",
       "    <tr>\n",
       "      <th>0</th>\n",
       "      <td>AGARTALA</td>\n",
       "      <td>23.883</td>\n",
       "      <td>91.25</td>\n",
       "      <td>1980</td>\n",
       "      <td>1</td>\n",
       "      <td>18.21</td>\n",
       "    </tr>\n",
       "    <tr>\n",
       "      <th>1</th>\n",
       "      <td>AGARTALA</td>\n",
       "      <td>23.883</td>\n",
       "      <td>91.25</td>\n",
       "      <td>1980</td>\n",
       "      <td>3</td>\n",
       "      <td>26.30</td>\n",
       "    </tr>\n",
       "    <tr>\n",
       "      <th>2</th>\n",
       "      <td>AGARTALA</td>\n",
       "      <td>23.883</td>\n",
       "      <td>91.25</td>\n",
       "      <td>1980</td>\n",
       "      <td>4</td>\n",
       "      <td>29.72</td>\n",
       "    </tr>\n",
       "    <tr>\n",
       "      <th>3</th>\n",
       "      <td>AGARTALA</td>\n",
       "      <td>23.883</td>\n",
       "      <td>91.25</td>\n",
       "      <td>1980</td>\n",
       "      <td>5</td>\n",
       "      <td>27.28</td>\n",
       "    </tr>\n",
       "    <tr>\n",
       "      <th>4</th>\n",
       "      <td>AGARTALA</td>\n",
       "      <td>23.883</td>\n",
       "      <td>91.25</td>\n",
       "      <td>1980</td>\n",
       "      <td>6</td>\n",
       "      <td>28.56</td>\n",
       "    </tr>\n",
       "  </tbody>\n",
       "</table>\n",
       "</div>"
      ],
      "text/plain": [
       "       NAME  LATITUDE  LONGITUDE  Year  Month   Temp\n",
       "0  AGARTALA    23.883      91.25  1980      1  18.21\n",
       "1  AGARTALA    23.883      91.25  1980      3  26.30\n",
       "2  AGARTALA    23.883      91.25  1980      4  29.72\n",
       "3  AGARTALA    23.883      91.25  1980      5  27.28\n",
       "4  AGARTALA    23.883      91.25  1980      6  28.56"
      ]
     },
     "execution_count": 14,
     "metadata": {},
     "output_type": "execute_result"
    }
   ],
   "source": [
    "#| echo: true\n",
    "from climate_database import query_country_climate_database\n",
    "df = query_country_climate_database(\"temps.db\", \"India\",1980, 2020)\n",
    "df.head()"
   ]
  },
  {
   "attachments": {},
   "cell_type": "markdown",
   "id": "54df5c44",
   "metadata": {},
   "source": [
    "We'll be using the `temperature_coefficient_plot`, which I've created, to implement the heatmap."
   ]
  },
  {
   "cell_type": "code",
   "execution_count": 15,
   "id": "9b3be2f6",
   "metadata": {},
   "outputs": [
    {
     "name": "stdout",
     "output_type": "stream",
     "text": [
      "def temperature_coefficient_plot(db_file, country, year_begin, year_end, month, min_obs, **kwargs) : \n",
      "    \"\"\"creates a geographic scatter plot where each point displays the first coefficent\n",
      "            of the linear regression model fitted for each station's temperature in given year range\n",
      "\n",
      "    Args:\n",
      "        db_file (string): file name for the database\n",
      "        country (string): name of the country for which data should be returned\n",
      "        year_begin (integer): the earliest year for which should be returned\n",
      "        year_end (integer): the latest years for which to should returned\n",
      "        month (integer): the month of the year for which should be returned\n",
      "        min_obs (integer): the minimum required number of years of data for any given station\n",
      "        **kwargs (optional): keyword arguments for the geographic scatter plot\n",
      "    \n",
      "    Returns:\n",
      "        an interactive geographic scatterplot\n",
      "    \"\"\"\n",
      "\n",
      "    df = query_climate_database(db_file, country, year_begin, year_end, month)\n",
      "\n",
      "    # Filter out stations with observations less than min_obs\n",
      "    df['ObsCount'] = df.groupby('NAME')['NAME'].transform('count')\n",
      "    df = df[df['ObsCount'] >= min_obs]\n",
      "\n",
      "    # Fitting each station data to a linear regression model\n",
      "    #   and put the first coefficient of the fitted models into a Pandas dataframe\n",
      "    coefs = df.groupby([\"NAME\", \"Month\"]).apply(coef).round(4).reset_index()\n",
      "\n",
      "    # Adding columns for latitude and longitude for each station in coefs\n",
      "    lat_lon = df[['NAME', 'LATITUDE', 'LONGITUDE']].drop_duplicates('NAME')\n",
      "    coefs = coefs.merge(lat_lon, how='left', left_on='NAME', right_on='NAME')\n",
      "    \n",
      "    # Creating dictionary to match month to month name (for title of plot)\n",
      "    month_dict={1: \"January\", 2: \"February\", 3: \"March\", 4: \"April\",\n",
      "            5: \"May\", 6: \"June\", 7: \"July\", 8: \"August\", 9: \"September\",\n",
      "            10: \"October\", 11: \"November\", 12: \"December\"}\n",
      "    \n",
      "    # Preparing the plot\n",
      "    fig = px.scatter_mapbox(coefs,\n",
      "                            lat=\"LATITUDE\",\n",
      "                            lon=\"LONGITUDE\",\n",
      "                            hover_name=\"NAME\",\n",
      "                            color=0,\n",
      "                            title = f\"Estimates of yearly increase in termperature in {month_dict[month]} <br>for stations in {country}, years {year_begin} - {year_end}\",\n",
      "                            **kwargs)\n",
      "    \n",
      "    # Updating margin and colorbar range\n",
      "    fig.update_layout(margin={\"r\":0,\"t\":50,\"l\":0,\"b\":0}, \n",
      "                      coloraxis=dict(cmax=0.1, cmin=-0.1), # to make colorbar range from -0.1 to 0.1\n",
      "                      coloraxis_colorbar=dict(title='Estimated Yearly<br>Increase (°C)<br>')\n",
      "                      )\n",
      "    \n",
      "    return fig\n",
      "\n"
     ]
    }
   ],
   "source": [
    "#| echo: true\n",
    "from climate_database import temperature_coefficient_plot\n",
    "print(inspect.getsource(temperature_coefficient_plot))"
   ]
  },
  {
   "attachments": {},
   "cell_type": "markdown",
   "id": "240eabed",
   "metadata": {},
   "source": [
    "Based on the heatmap below, it appears that, over the years, more and more stations have been a higher annual yearly temperature."
   ]
  },
  {
   "cell_type": "code",
   "execution_count": 16,
   "id": "1ea595a8",
   "metadata": {},
   "outputs": [
    {
     "data": {
      "text/html": [
       "<iframe\n",
       "    scrolling=\"no\"\n",
       "    width=\"100%\"\n",
       "    height=\"545px\"\n",
       "    src=\"iframe_figures/figure_16.html\"\n",
       "    frameborder=\"0\"\n",
       "    allowfullscreen\n",
       "></iframe>\n"
      ]
     },
     "metadata": {},
     "output_type": "display_data"
    }
   ],
   "source": [
    "#| echo: true\n",
    "from climate_database import yearly_avg_temp_heatmap\n",
    "\n",
    "# setting color map for heatmap\n",
    "color_map = px.colors.sequential.deep\n",
    "\n",
    "fig = yearly_avg_temp_heatmap(\"temps.db\", \"India\", 1980, 2020,\n",
    "                              color_continuous_scale = color_map)\n",
    "\n",
    "fig.show()"
   ]
  },
  {
   "attachments": {},
   "cell_type": "markdown",
   "id": "9cceab06",
   "metadata": {},
   "source": [
    "We can dig deeper to learn more about our data. Let's see how the monthly averages in India has changed from 1980 to 2020, and see if there's a particular month where the averages have increased. "
   ]
  },
  {
   "cell_type": "code",
   "execution_count": 17,
   "id": "82f3574d",
   "metadata": {},
   "outputs": [
    {
     "data": {
      "text/html": [
       "<iframe\n",
       "    scrolling=\"no\"\n",
       "    width=\"520px\"\n",
       "    height=\"1520\"\n",
       "    src=\"iframe_figures/figure_17.html\"\n",
       "    frameborder=\"0\"\n",
       "    allowfullscreen\n",
       "></iframe>\n"
      ]
     },
     "metadata": {},
     "output_type": "display_data"
    }
   ],
   "source": [
    "#| echo: true\n",
    "from climate_database import monthly_avg_temp_lineplots\n",
    "\n",
    "fig = monthly_avg_temp_lineplots(\"temps.db\", \"India\", 1980, 2020,\n",
    "                                 height = 1500,\n",
    "                                 width = 500)\n",
    "fig.show()"
   ]
  },
  {
   "attachments": {},
   "cell_type": "markdown",
   "id": "b11bd20f",
   "metadata": {},
   "source": [
    "While none of the plots above appear to have a strongly positive linear trend, we can see that, there's a small positive linear trend in March and April, and from June to November. This indicates that the effects of climate change may be more apparent in those months in India."
   ]
  }
 ],
 "metadata": {
  "kernelspec": {
   "display_name": "Python 3 (ipykernel)",
   "language": "python",
   "name": "python3"
  },
  "language_info": {
   "codemirror_mode": {
    "name": "ipython",
    "version": 3
   },
   "file_extension": ".py",
   "mimetype": "text/x-python",
   "name": "python",
   "nbconvert_exporter": "python",
   "pygments_lexer": "ipython3",
   "version": "3.11.5"
  }
 },
 "nbformat": 4,
 "nbformat_minor": 5
}
